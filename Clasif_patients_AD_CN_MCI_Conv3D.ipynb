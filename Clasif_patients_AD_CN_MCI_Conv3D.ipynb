{
 "cells": [
  {
   "cell_type": "code",
   "execution_count": 1,
   "metadata": {
    "colab": {
     "autoexec": {
      "startup": false,
      "wait_interval": 0
     },
     "base_uri": "https://localhost:8080/",
     "height": 34
    },
    "colab_type": "code",
    "executionInfo": {
     "elapsed": 633,
     "status": "ok",
     "timestamp": 1526079392239,
     "user": {
      "displayName": "Francisco Ariztizabal",
      "photoUrl": "//lh5.googleusercontent.com/-eXc74JEqcGU/AAAAAAAAAAI/AAAAAAAACw4/1af62-u2Bv4/s50-c-k-no/photo.jpg",
      "userId": "101144446090594934349"
     },
     "user_tz": 300
    },
    "id": "mXvaFWF48bbD",
    "outputId": "4e9a4991-53f9-4bd0-ac91-f07bc8a15368"
   },
   "outputs": [
    {
     "name": "stderr",
     "output_type": "stream",
     "text": [
      "Using TensorFlow backend.\n"
     ]
    },
    {
     "data": {
      "text/plain": [
       "'2.2.0'"
      ]
     },
     "execution_count": 1,
     "metadata": {},
     "output_type": "execute_result"
    }
   ],
   "source": [
    "import keras\n",
    "keras.__version__"
   ]
  },
  {
   "cell_type": "markdown",
   "metadata": {
    "colab_type": "text",
    "id": "vIHCkVWC8bbM"
   },
   "source": [
    "# Training conv3D NN for classify AD, CN and MCI using 3D volume MRI "
   ]
  },
  {
   "cell_type": "code",
   "execution_count": 2,
   "metadata": {},
   "outputs": [],
   "source": [
    "import os \n",
    "import shutil\n",
    "import nibabel as nib\n",
    "import numpy as np\n",
    "import pandas as pd \n",
    "\n",
    "# El path al directorio donde estan las imagenes\n",
    "\n",
    "dataset_dir = 'C:\\ADNI\\Imagenes3D'\n",
    "dataset_labelfile = \"C:\\ADNI/ADNI1_Complete_1Yr_1.5T.csv\"\n",
    "dataset_labelfile_idfield = 'Image Data ID'\n",
    "dataset_labelfile_labelfield = 'Group'\n",
    "\n",
    "#Training parameters\n",
    "\n",
    "n_dataset_parts = 5 #must be integer\n",
    "crossval_dataset_frac = 1/n_dataset_parts\n",
    "\n",
    "FilePathsFromId = {} ## 'ID':path\n",
    "LabelsFromId = {} ## 'ID':label\n",
    "\n",
    "IntLabels = {'CN':0, 'AD':1,'MCI':2}\n",
    "\n",
    "target_shape = (192,192,160)\n",
    "target_affine = np.array([ [ 4.29048360e-08,  3.24291396e-04, -1.20006235e+00, 9.47253036e+01],\n",
    "                        [-3.27969076e-04, -1.23945871e+00, -3.13983739e-04, 1.38530121e+02],\n",
    "                        [-1.25348123e+00,  3.24300145e-04,  4.10763858e-08, 1.08530121e+02],\n",
    "                        [ 0.00000000e+00,  0.00000000e+00,  0.00000000e+00, 1.00000000e+00]\n",
    "                ])\n"
   ]
  },
  {
   "cell_type": "markdown",
   "metadata": {
    "colab_type": "text",
    "id": "JuFOJ9fW8bbm"
   },
   "source": [
    "## Construyendo la red"
   ]
  },
  {
   "cell_type": "code",
   "execution_count": 3,
   "metadata": {
    "colab": {
     "autoexec": {
      "startup": false,
      "wait_interval": 0
     }
    },
    "colab_type": "code",
    "id": "cmC-j-j88bbn"
   },
   "outputs": [],
   "source": [
    "\n",
    "from keras import layers\n",
    "from keras import models\n",
    "\n",
    "model = models.Sequential()\n",
    "\n",
    "##model.add(layers.Conv3D(32, (3, 3, 3), activation='relu',padding='same',\n",
    "##                        input_shape=(192, 192, 160,1),data_format='channels_last'))\n",
    "\n",
    "\n",
    "model.add(layers.AveragePooling3D(pool_size=(2, 2, 2), strides=None, padding='valid',\n",
    "                         input_shape=(192, 192, 160,1),data_format='channels_last'))\n",
    "model.add(layers.Conv3D(32, (3, 3, 3), activation='relu',padding='same'))\n",
    "\n",
    "model.add(layers.MaxPooling3D((2, 2, 2)))\n",
    "model.add(layers.Conv3D(64, (3, 3, 3), activation='relu'))\n",
    "model.add(layers.MaxPooling3D((2, 2, 2)))\n",
    "model.add(layers.Conv3D(128, (3, 3, 3), activation='relu'))\n",
    "model.add(layers.MaxPooling3D((2, 2, 2)))\n",
    "model.add(layers.Conv3D(128, (3, 3, 3), activation='relu'))\n",
    "model.add(layers.MaxPooling3D((2, 2, 2)))\n",
    "model.add(layers.Flatten())\n",
    "model.add(layers.Dense(32, activation='relu'))\n",
    "model.add(layers.Dense(3, activation='softmax'))"
   ]
  },
  {
   "cell_type": "markdown",
   "metadata": {
    "colab_type": "text",
    "id": "oZyAvTH28bbp"
   },
   "source": [
    "Veamos como cambian las dimensiones de los mapas de features en cada capa:"
   ]
  },
  {
   "cell_type": "code",
   "execution_count": 4,
   "metadata": {
    "colab": {
     "autoexec": {
      "startup": false,
      "wait_interval": 0
     },
     "base_uri": "https://localhost:8080/",
     "height": 504
    },
    "colab_type": "code",
    "executionInfo": {
     "elapsed": 594,
     "status": "ok",
     "timestamp": 1526079624702,
     "user": {
      "displayName": "Francisco Ariztizabal",
      "photoUrl": "//lh5.googleusercontent.com/-eXc74JEqcGU/AAAAAAAAAAI/AAAAAAAACw4/1af62-u2Bv4/s50-c-k-no/photo.jpg",
      "userId": "101144446090594934349"
     },
     "user_tz": 300
    },
    "id": "mMtDbj5K8bbq",
    "outputId": "69408117-161d-49b9-b1f8-5c07d00bf5a9"
   },
   "outputs": [
    {
     "name": "stdout",
     "output_type": "stream",
     "text": [
      "_________________________________________________________________\n",
      "Layer (type)                 Output Shape              Param #   \n",
      "=================================================================\n",
      "average_pooling3d_1 (Average (None, 96, 96, 80, 1)     0         \n",
      "_________________________________________________________________\n",
      "conv3d_1 (Conv3D)            (None, 96, 96, 80, 32)    896       \n",
      "_________________________________________________________________\n",
      "max_pooling3d_1 (MaxPooling3 (None, 48, 48, 40, 32)    0         \n",
      "_________________________________________________________________\n",
      "conv3d_2 (Conv3D)            (None, 46, 46, 38, 64)    55360     \n",
      "_________________________________________________________________\n",
      "max_pooling3d_2 (MaxPooling3 (None, 23, 23, 19, 64)    0         \n",
      "_________________________________________________________________\n",
      "conv3d_3 (Conv3D)            (None, 21, 21, 17, 128)   221312    \n",
      "_________________________________________________________________\n",
      "max_pooling3d_3 (MaxPooling3 (None, 10, 10, 8, 128)    0         \n",
      "_________________________________________________________________\n",
      "conv3d_4 (Conv3D)            (None, 8, 8, 6, 128)      442496    \n",
      "_________________________________________________________________\n",
      "max_pooling3d_4 (MaxPooling3 (None, 4, 4, 3, 128)      0         \n",
      "_________________________________________________________________\n",
      "flatten_1 (Flatten)          (None, 6144)              0         \n",
      "_________________________________________________________________\n",
      "dense_1 (Dense)              (None, 32)                196640    \n",
      "_________________________________________________________________\n",
      "dense_2 (Dense)              (None, 3)                 99        \n",
      "=================================================================\n",
      "Total params: 916,803\n",
      "Trainable params: 916,803\n",
      "Non-trainable params: 0\n",
      "_________________________________________________________________\n"
     ]
    }
   ],
   "source": [
    "model.summary()"
   ]
  },
  {
   "cell_type": "code",
   "execution_count": 5,
   "metadata": {
    "colab": {
     "autoexec": {
      "startup": false,
      "wait_interval": 0
     }
    },
    "colab_type": "code",
    "id": "sQ_dszlC8bbw"
   },
   "outputs": [],
   "source": [
    "from keras import optimizers\n",
    "\n",
    "##sgd = optimizers.SGD(lr=0.01, decay=1e-3, momentum=0.9, nesterov=True)\n",
    "adam = optimizers.Adam(lr=0.00001, beta_1=0.9, beta_2=0.999, epsilon=1.0, decay=0.0, amsgrad=False)\n",
    "model.compile(loss='categorical_crossentropy',\n",
    "              optimizer=adam, \n",
    "              metrics=['accuracy'])\n"
   ]
  },
  {
   "cell_type": "markdown",
   "metadata": {},
   "source": [
    "# Data management functions "
   ]
  },
  {
   "cell_type": "code",
   "execution_count": 5,
   "metadata": {},
   "outputs": [],
   "source": [
    "def GenerateDictionariesFromDataset(dataset_dir,dataset_labelfile,dataset_labelfile_idfield,dataset_labelfile_labelfield):\n",
    "    \n",
    "    \n",
    "    CSVDB = GenerateCSVDB(dataset_labelfile,dataset_labelfile_idfield)\n",
    "    \n",
    "    FilePaths = GenerateFilePathList(dataset_dir)\n",
    "        \n",
    "    return GenerateDictionariesFromFileList(FilePaths,CSVDB,dataset_labelfile_labelfield)\n",
    "    \n",
    "\n",
    "def GenerateDictionariesFromFileList(FilePaths,CSVDB,CSVDBField):\n",
    "\n",
    "    FilePathsFromId = {} ## 'ID':path\n",
    "    LabelsFromId = {} ## 'ID':label\n",
    "        \n",
    "    for filePath in FilePaths:\n",
    "\n",
    "        Id = IdFromFilePath(filePath) \n",
    "        Label = LabelFromId(Id,CSVDB,CSVDBField)\n",
    "        \n",
    "        FilePathsFromId[Id] = filePath\n",
    "        LabelsFromId[Id] = IntLabels[Label]\n",
    "\n",
    "    return FilePathsFromId,LabelsFromId\n",
    "\n",
    "def IdFromFilePath(FilePath):\n",
    "    #expecting filename like id.nii\n",
    "    Id = FilePath.split('\\\\')[-1].split('.')[0]\n",
    "    Id = np.int64(Id)\n",
    "    return Id\n",
    "\n",
    "def LabelFromId(Id,CSVDB,CSVDBField):\n",
    "    return CSVDB.at[Id, CSVDBField]\n",
    "\n",
    "def GenerateCSVDB(dataset_labelfile,dataset_labelfile_idfield):\n",
    "    #read CSV file\n",
    "    CSVDB = pd.read_csv(dataset_labelfile, dtype={dataset_labelfile_idfield:int})\n",
    "    #Generate index on id field\n",
    "    CSVDB.set_index(dataset_labelfile_idfield, inplace=True)\n",
    "    \n",
    "    return CSVDB\n",
    "\n",
    "def GenerateFilePathList(dataset_dir):\n",
    "\n",
    "    FilePaths = []\n",
    "    for dirname, dirnames, filenames in os.walk(dataset_dir):\n",
    "        # print path to all subdirectories first.\n",
    "        for subdirname in dirnames:\n",
    "            FilePaths.append(os.path.join(dirname, subdirname))\n",
    "\n",
    "        # print path to all filenames.\n",
    "        for filename in filenames:\n",
    "            FilePaths.append(os.path.join(dirname, filename))\n",
    "            \n",
    "    return FilePaths"
   ]
  },
  {
   "cell_type": "code",
   "execution_count": 6,
   "metadata": {},
   "outputs": [],
   "source": [
    "#function to plot loss and accuracy at each epoch end\n",
    "def PlotAll(history):\n",
    "    acc = history.history['acc']\n",
    "    val_acc = history.history['val_acc']\n",
    "    loss = history.history['loss']\n",
    "    val_loss = history.history['val_loss']\n",
    "\n",
    "    epochs = range(len(acc))\n",
    "\n",
    "    plt.plot(epochs, acc, 'bo', label='Training acc')\n",
    "    plt.plot(epochs, val_acc, 'b', label='Validation acc')\n",
    "    plt.title('Training and validation accuracy')\n",
    "    plt.legend()\n",
    "\n",
    "    plt.figure()\n",
    "\n",
    "    plt.plot(epochs, loss, 'bo', label='Training loss')\n",
    "    plt.plot(epochs, val_loss, 'b', label='Validation loss')\n",
    "    plt.title('Training and validation loss')\n",
    "    plt.legend()\n",
    "\n",
    "    plt.show()\n"
   ]
  },
  {
   "cell_type": "markdown",
   "metadata": {},
   "source": [
    "# Configure callbacks"
   ]
  },
  {
   "cell_type": "code",
   "execution_count": 7,
   "metadata": {},
   "outputs": [],
   "source": [
    "from keras.callbacks import ModelCheckpoint\n",
    "from keras.callbacks import CSVLogger\n",
    "from keras.callbacks import EarlyStopping\n",
    "\n",
    "def configureCallbacks(nrun):\n",
    "    patience = 10\n",
    "    model_filename = 'CN_AD_MCI_Conv3D_CV_GP2_checkpoint_'+str(nrun)+'.h5'\n",
    "    csv_filename = 'CN_AD_MCI_Conv3D_CV_GP2_Logger_'+str(nrun)+'.CSV'\n",
    "    # Early stopping for reducing over-fitting risk\n",
    "    stopper = EarlyStopping(patience=patience,monitor='val_acc')\n",
    "\n",
    "    # Model checkpoint to save the training results\n",
    "    checkpointer = ModelCheckpoint(\n",
    "        filepath=model_filename.format(1),\n",
    "        verbose=0,\n",
    "        save_best_only=True,\n",
    "        save_weights_only=True)\n",
    "\n",
    "    # CSVLogger to save the training results in a csv file\n",
    "    csv_logger = CSVLogger(csv_filename.format(1), separator=';')\n",
    "\n",
    "    callbacks = [checkpointer, csv_logger, stopper]\n",
    "    \n",
    "    return callbacks"
   ]
  },
  {
   "cell_type": "markdown",
   "metadata": {},
   "source": [
    "# Data dictionaries"
   ]
  },
  {
   "cell_type": "code",
   "execution_count": 8,
   "metadata": {},
   "outputs": [
    {
     "name": "stdout",
     "output_type": "stream",
     "text": [
      "CN: 703 AD: 476 MCI: 1113\n",
      "Tot: 2292\n",
      "f0: 0.3067190226876091 f1: 0.20767888307155322 f2: 0.4856020942408377\n"
     ]
    }
   ],
   "source": [
    "import random\n",
    "\n",
    "FilePathsFromId,LabelsFromId = GenerateDictionariesFromDataset(dataset_dir,\n",
    "                                                               dataset_labelfile,\n",
    "                                                               dataset_labelfile_idfield,\n",
    "                                                               dataset_labelfile_labelfield)\n",
    "\n",
    "#print(FilePathsFromId)\n",
    "#print(LabelsFromId)\n",
    "\n",
    "#Ids = list(FilePathsFromId.keys())\n",
    "\n",
    "#print(Ids)\n",
    "#print(len(Ids))\n",
    "\n",
    "c0=0\n",
    "c1=0\n",
    "c2=0\n",
    "Ids0 = []\n",
    "Ids1 = []\n",
    "Ids2 = []\n",
    "indice = 0\n",
    "for k,v in LabelsFromId.items():\n",
    "    #print('k:',k,'v:',v)\n",
    "    if v==0:\n",
    "        c0 += 1\n",
    "        Ids0.append(k)  \n",
    "    if v==1:\n",
    "        c1 += 1\n",
    "        Ids1.append(k)  \n",
    "    if v==2:\n",
    "        c2 += 1\n",
    "        Ids2.append(k)  \n",
    "    \n",
    "    indice += 1\n",
    "        \n",
    "print('CN:',c0,'AD:',c1,'MCI:',c2)\n",
    "Tot = c0+c1+c2\n",
    "print('Tot:',Tot)\n",
    "f0=c0/Tot\n",
    "f1=c1/Tot\n",
    "f2=c2/Tot\n",
    "print('f0:',f0,'f1:',f1,'f2:',f2)\n",
    "\n",
    "#append ids mantaining proportion\n",
    "Ids = []\n",
    "n0 = 0\n",
    "n1 = 0\n",
    "n2 = 0\n",
    "indice = 0\n",
    "\n",
    "while indice<Tot :\n",
    "    \n",
    "    rn = random.random()        # Random float x, 0.0 <= x < 1.0\n",
    "    \n",
    "    if rn < f0:\n",
    "        if n0 < len(Ids0):\n",
    "            Ids.append(Ids0[n0])      \n",
    "            n0 += 1\n",
    "            indice += 1\n",
    "            \n",
    "    if rn>=f0 and rn<(f0+f1):\n",
    "        if n1 < len(Ids1):\n",
    "            Ids.append(Ids1[n1])      \n",
    "            n1 += 1\n",
    "            indice += 1\n",
    "\n",
    "    if rn>=(f0+f1): \n",
    "        if n2 < len(Ids2):\n",
    "            Ids.append(Ids2[n2])      \n",
    "            n2 += 1\n",
    "            indice += 1\n",
    "    \n",
    "#print('indice:',indice)\n",
    "#print(len(Ids)\n",
    "\n",
    "\n"
   ]
  },
  {
   "cell_type": "markdown",
   "metadata": {},
   "source": [
    "# Import trained model"
   ]
  },
  {
   "cell_type": "code",
   "execution_count": 9,
   "metadata": {},
   "outputs": [],
   "source": [
    "from keras.models import load_model\n",
    "\n",
    "model = load_model('CN_AD_MCI_Conv3D_CV_GP2_0.h5')"
   ]
  },
  {
   "cell_type": "markdown",
   "metadata": {},
   "source": [
    "Manual k-Fold Cross Validation\n",
    "The gold standard for machine learning model evaluation is k-fold cross validation.\n",
    "\n",
    "It provides a robust estimate of the performance of a model on unseen data. It does this by splitting the training dataset into k subsets and takes turns training models on all subsets except one which is held out, and evaluating model performance on the held out validation dataset. The process is repeated until all subsets are given an opportunity to be the held out validation set. The performance measure is then averaged across all models that are created\n",
    "ref:https://machinelearningmastery.com/evaluate-performance-deep-learning-models-keras/"
   ]
  },
  {
   "cell_type": "markdown",
   "metadata": {},
   "source": [
    "Los criterios para definir la cantidad de epocas por run, el batch_size, la cantidad de steps por epoch tanto para training como para validation fueron tomados de este artículo:\n",
    "https://towardsdatascience.com/epoch-vs-iterations-vs-batch-size-4dfb9c7ce9c9"
   ]
  },
  {
   "cell_type": "markdown",
   "metadata": {},
   "source": [
    "# MAIN"
   ]
  },
  {
   "cell_type": "code",
   "execution_count": 16,
   "metadata": {},
   "outputs": [
    {
     "name": "stdout",
     "output_type": "stream",
     "text": [
      "Total images: 2292\n",
      "training images: 1834\n",
      "validation images: 458\n",
      "batch_size: 15\n",
      "steps_per_epoch: 122\n",
      "validation_steps: 30\n",
      "Using  Keras Generator for NIfti images V.12\n",
      "Using  Keras Generator for NIfti images V.12\n",
      "**************************************************************\n",
      "Run 1 / 5\n",
      "**************************************************************\n",
      "Epoch 1/50\n",
      "122/122 [==============================] - 868s 7s/step - loss: 0.3450 - acc: 0.8995 - val_loss: 0.8873 - val_acc: 0.6689\n",
      "Epoch 2/50\n",
      "122/122 [==============================] - 814s 7s/step - loss: 0.3259 - acc: 0.9060 - val_loss: 0.9840 - val_acc: 0.6667\n",
      "Epoch 3/50\n",
      "122/122 [==============================] - 817s 7s/step - loss: 0.3267 - acc: 0.9011 - val_loss: 0.8626 - val_acc: 0.6800\n",
      "Epoch 4/50\n",
      "122/122 [==============================] - 813s 7s/step - loss: 0.3181 - acc: 0.9104 - val_loss: 0.8912 - val_acc: 0.6867\n",
      "Epoch 5/50\n",
      "122/122 [==============================] - 817s 7s/step - loss: 0.3075 - acc: 0.9180 - val_loss: 0.8604 - val_acc: 0.6867\n",
      "Epoch 6/50\n",
      "122/122 [==============================] - 815s 7s/step - loss: 0.3022 - acc: 0.9224 - val_loss: 0.8591 - val_acc: 0.6956\n",
      "Epoch 7/50\n",
      "122/122 [==============================] - 820s 7s/step - loss: 0.3005 - acc: 0.9175 - val_loss: 0.8655 - val_acc: 0.6911\n",
      "Epoch 8/50\n",
      "122/122 [==============================] - 812s 7s/step - loss: 0.2968 - acc: 0.9197 - val_loss: 0.8639 - val_acc: 0.6911\n",
      "Epoch 9/50\n",
      "122/122 [==============================] - 820s 7s/step - loss: 0.2928 - acc: 0.9235 - val_loss: 0.8511 - val_acc: 0.6933\n",
      "Epoch 10/50\n",
      "122/122 [==============================] - 830s 7s/step - loss: 0.2865 - acc: 0.9301 - val_loss: 0.8609 - val_acc: 0.6911\n",
      "Epoch 11/50\n",
      "122/122 [==============================] - 814s 7s/step - loss: 0.2907 - acc: 0.9202 - val_loss: 0.8591 - val_acc: 0.7089\n",
      "Epoch 12/50\n",
      "122/122 [==============================] - 845s 7s/step - loss: 0.2735 - acc: 0.9344 - val_loss: 0.8528 - val_acc: 0.7089\n",
      "Epoch 13/50\n",
      "122/122 [==============================] - 813s 7s/step - loss: 0.2735 - acc: 0.9295 - val_loss: 0.8587 - val_acc: 0.6778\n",
      "Epoch 14/50\n",
      "122/122 [==============================] - 822s 7s/step - loss: 0.2715 - acc: 0.9333 - val_loss: 0.8443 - val_acc: 0.6844\n",
      "Epoch 15/50\n",
      "122/122 [==============================] - 839s 7s/step - loss: 0.2676 - acc: 0.9399 - val_loss: 0.8693 - val_acc: 0.6822\n",
      "Epoch 16/50\n",
      "122/122 [==============================] - 807s 7s/step - loss: 0.2624 - acc: 0.9361 - val_loss: 0.8779 - val_acc: 0.6822\n",
      "Epoch 17/50\n",
      "122/122 [==============================] - 815s 7s/step - loss: 0.2728 - acc: 0.9262 - val_loss: 0.8013 - val_acc: 0.7222\n",
      "Epoch 18/50\n",
      "122/122 [==============================] - 839s 7s/step - loss: 0.2557 - acc: 0.9410 - val_loss: 0.8062 - val_acc: 0.7089\n",
      "Epoch 19/50\n",
      "122/122 [==============================] - 820s 7s/step - loss: 0.2566 - acc: 0.9404 - val_loss: 0.8384 - val_acc: 0.7222\n",
      "Epoch 20/50\n",
      "122/122 [==============================] - 822s 7s/step - loss: 0.2515 - acc: 0.9443 - val_loss: 0.8272 - val_acc: 0.6956\n",
      "Epoch 21/50\n",
      "122/122 [==============================] - 832s 7s/step - loss: 0.2468 - acc: 0.9464 - val_loss: 0.7969 - val_acc: 0.7200\n",
      "Epoch 22/50\n",
      "122/122 [==============================] - 815s 7s/step - loss: 0.2497 - acc: 0.9432 - val_loss: 0.7931 - val_acc: 0.7311\n",
      "Epoch 23/50\n",
      "122/122 [==============================] - 837s 7s/step - loss: 0.2508 - acc: 0.9443 - val_loss: 0.8476 - val_acc: 0.7133\n",
      "Epoch 24/50\n",
      "122/122 [==============================] - 835s 7s/step - loss: 0.2390 - acc: 0.9454 - val_loss: 0.7882 - val_acc: 0.7378\n",
      "Epoch 25/50\n",
      "122/122 [==============================] - 822s 7s/step - loss: 0.2393 - acc: 0.9464 - val_loss: 0.7781 - val_acc: 0.7244\n",
      "Epoch 26/50\n",
      "122/122 [==============================] - 830s 7s/step - loss: 0.2424 - acc: 0.9459 - val_loss: 0.8031 - val_acc: 0.7267\n",
      "Epoch 27/50\n",
      "122/122 [==============================] - 806s 7s/step - loss: 0.2283 - acc: 0.9492 - val_loss: 0.8312 - val_acc: 0.7267\n",
      "Epoch 28/50\n",
      "122/122 [==============================] - 815s 7s/step - loss: 0.2251 - acc: 0.9541 - val_loss: 0.7831 - val_acc: 0.7267\n",
      "Epoch 29/50\n",
      "122/122 [==============================] - 820s 7s/step - loss: 0.2248 - acc: 0.9546 - val_loss: 0.8090 - val_acc: 0.7133\n",
      "Epoch 30/50\n",
      "122/122 [==============================] - 816s 7s/step - loss: 0.2226 - acc: 0.9536 - val_loss: 0.7868 - val_acc: 0.7244\n",
      "Epoch 31/50\n",
      "122/122 [==============================] - 828s 7s/step - loss: 0.2199 - acc: 0.9552 - val_loss: 0.7901 - val_acc: 0.7133\n",
      "Epoch 32/50\n",
      "122/122 [==============================] - 819s 7s/step - loss: 0.2172 - acc: 0.9525 - val_loss: 0.7927 - val_acc: 0.7356\n",
      "Epoch 33/50\n",
      "122/122 [==============================] - 819s 7s/step - loss: 0.2153 - acc: 0.9546 - val_loss: 0.7946 - val_acc: 0.7356\n",
      "Epoch 34/50\n",
      "122/122 [==============================] - 813s 7s/step - loss: 0.2116 - acc: 0.9546 - val_loss: 0.7796 - val_acc: 0.7444\n",
      "Epoch 35/50\n",
      "122/122 [==============================] - 819s 7s/step - loss: 0.2097 - acc: 0.9590 - val_loss: 0.7603 - val_acc: 0.7378\n",
      "Epoch 36/50\n",
      "122/122 [==============================] - 817s 7s/step - loss: 0.2113 - acc: 0.9574 - val_loss: 0.7668 - val_acc: 0.7289\n",
      "Epoch 37/50\n",
      "122/122 [==============================] - 838s 7s/step - loss: 0.2060 - acc: 0.9574 - val_loss: 0.7798 - val_acc: 0.7444\n",
      "Epoch 38/50\n",
      "122/122 [==============================] - 812s 7s/step - loss: 0.2070 - acc: 0.9601 - val_loss: 0.7545 - val_acc: 0.7489\n",
      "Epoch 39/50\n",
      "122/122 [==============================] - 818s 7s/step - loss: 0.2031 - acc: 0.9590 - val_loss: 0.7564 - val_acc: 0.7511\n",
      "Epoch 40/50\n",
      "122/122 [==============================] - 815s 7s/step - loss: 0.2029 - acc: 0.9607 - val_loss: 0.8019 - val_acc: 0.7178\n",
      "Epoch 41/50\n",
      "122/122 [==============================] - 842s 7s/step - loss: 0.2024 - acc: 0.9623 - val_loss: 0.8190 - val_acc: 0.7422\n",
      "Epoch 42/50\n",
      "122/122 [==============================] - 837s 7s/step - loss: 0.1991 - acc: 0.9628 - val_loss: 0.7905 - val_acc: 0.7444\n",
      "Epoch 43/50\n",
      "122/122 [==============================] - 817s 7s/step - loss: 0.1969 - acc: 0.9623 - val_loss: 0.7425 - val_acc: 0.7533\n",
      "Epoch 44/50\n",
      "122/122 [==============================] - 820s 7s/step - loss: 0.1994 - acc: 0.9574 - val_loss: 0.7425 - val_acc: 0.7467\n",
      "Epoch 45/50\n",
      "122/122 [==============================] - 814s 7s/step - loss: 0.1930 - acc: 0.9634 - val_loss: 0.7728 - val_acc: 0.7333\n",
      "Epoch 46/50\n",
      "122/122 [==============================] - 848s 7s/step - loss: 0.1893 - acc: 0.9639 - val_loss: 0.7718 - val_acc: 0.7356\n",
      "Epoch 47/50\n",
      "122/122 [==============================] - 826s 7s/step - loss: 0.1891 - acc: 0.9656 - val_loss: 0.7781 - val_acc: 0.7400\n",
      "Epoch 48/50\n",
      "122/122 [==============================] - 810s 7s/step - loss: 0.1899 - acc: 0.9617 - val_loss: 0.7575 - val_acc: 0.7356\n",
      "Epoch 49/50\n",
      "122/122 [==============================] - 838s 7s/step - loss: 0.1844 - acc: 0.9656 - val_loss: 0.7646 - val_acc: 0.7311\n",
      "Epoch 50/50\n",
      "122/122 [==============================] - 835s 7s/step - loss: 0.1834 - acc: 0.9656 - val_loss: 0.7366 - val_acc: 0.7578\n",
      "acc: 75.78%\n"
     ]
    },
    {
     "data": {
      "image/png": "[encoded data removed]",
      "text/plain": [
       "<Figure size 432x288 with 1 Axes>"
      ]
     },
     "metadata": {},
     "output_type": "display_data"
    },
    {
     "data": {
      "image/png": "[encoded data removed]",
      "text/plain": [
       "<Figure size 432x288 with 1 Axes>"
      ]
     },
     "metadata": {},
     "output_type": "display_data"
    },
    {
     "name": "stdout",
     "output_type": "stream",
     "text": [
      "Using  Keras Generator for NIfti images V.12\n",
      "Using  Keras Generator for NIfti images V.12\n",
      "**************************************************************\n",
      "Run 2 / 5\n",
      "**************************************************************\n",
      "Epoch 1/50\n",
      " 69/122 [===============>..............] - ETA: 4:54 - loss: 0.5884 - acc: 0.7874"
     ]
    },
    {
     "ename": "KeyboardInterrupt",
     "evalue": "",
     "output_type": "error",
     "traceback": [
      "\u001b[1;31m---------------------------------------------------------------------------\u001b[0m",
      "\u001b[1;31mKeyboardInterrupt\u001b[0m                         Traceback (most recent call last)",
      "\u001b[1;32m<ipython-input-16-05edc8c95886>\u001b[0m in \u001b[0;36m<module>\u001b[1;34m()\u001b[0m\n\u001b[0;32m     68\u001b[0m         \u001b[0mworkers\u001b[0m\u001b[1;33m=\u001b[0m\u001b[1;36m6\u001b[0m\u001b[1;33m,\u001b[0m\u001b[1;33m\u001b[0m\u001b[0m\n\u001b[0;32m     69\u001b[0m         \u001b[0mepochs\u001b[0m\u001b[1;33m=\u001b[0m\u001b[0mepochs_per_run\u001b[0m\u001b[1;33m,\u001b[0m\u001b[1;33m\u001b[0m\u001b[0m\n\u001b[1;32m---> 70\u001b[1;33m         callbacks=callbacks)\n\u001b[0m\u001b[0;32m     71\u001b[0m \u001b[1;33m\u001b[0m\u001b[0m\n\u001b[0;32m     72\u001b[0m     \u001b[0mmodel\u001b[0m\u001b[1;33m.\u001b[0m\u001b[0msave\u001b[0m\u001b[1;33m(\u001b[0m\u001b[1;34m'CN_AD_MCI_Conv3D_CV_GP2_'\u001b[0m\u001b[1;33m+\u001b[0m\u001b[0mstr\u001b[0m\u001b[1;33m(\u001b[0m\u001b[0mnrun\u001b[0m\u001b[1;33m)\u001b[0m\u001b[1;33m+\u001b[0m\u001b[1;34m'.h5'\u001b[0m\u001b[1;33m)\u001b[0m\u001b[1;33m\u001b[0m\u001b[0m\n",
      "\u001b[1;32mc:\\program files\\python36\\lib\\site-packages\\keras\\legacy\\interfaces.py\u001b[0m in \u001b[0;36mwrapper\u001b[1;34m(*args, **kwargs)\u001b[0m\n\u001b[0;32m     89\u001b[0m                 warnings.warn('Update your `' + object_name +\n\u001b[0;32m     90\u001b[0m                               '` call to the Keras 2 API: ' + signature, stacklevel=2)\n\u001b[1;32m---> 91\u001b[1;33m             \u001b[1;32mreturn\u001b[0m \u001b[0mfunc\u001b[0m\u001b[1;33m(\u001b[0m\u001b[1;33m*\u001b[0m\u001b[0margs\u001b[0m\u001b[1;33m,\u001b[0m \u001b[1;33m**\u001b[0m\u001b[0mkwargs\u001b[0m\u001b[1;33m)\u001b[0m\u001b[1;33m\u001b[0m\u001b[0m\n\u001b[0m\u001b[0;32m     92\u001b[0m         \u001b[0mwrapper\u001b[0m\u001b[1;33m.\u001b[0m\u001b[0m_original_function\u001b[0m \u001b[1;33m=\u001b[0m \u001b[0mfunc\u001b[0m\u001b[1;33m\u001b[0m\u001b[0m\n\u001b[0;32m     93\u001b[0m         \u001b[1;32mreturn\u001b[0m \u001b[0mwrapper\u001b[0m\u001b[1;33m\u001b[0m\u001b[0m\n",
      "\u001b[1;32mc:\\program files\\python36\\lib\\site-packages\\keras\\engine\\training.py\u001b[0m in \u001b[0;36mfit_generator\u001b[1;34m(self, generator, steps_per_epoch, epochs, verbose, callbacks, validation_data, validation_steps, class_weight, max_queue_size, workers, use_multiprocessing, shuffle, initial_epoch)\u001b[0m\n\u001b[0;32m   1424\u001b[0m             \u001b[0muse_multiprocessing\u001b[0m\u001b[1;33m=\u001b[0m\u001b[0muse_multiprocessing\u001b[0m\u001b[1;33m,\u001b[0m\u001b[1;33m\u001b[0m\u001b[0m\n\u001b[0;32m   1425\u001b[0m             \u001b[0mshuffle\u001b[0m\u001b[1;33m=\u001b[0m\u001b[0mshuffle\u001b[0m\u001b[1;33m,\u001b[0m\u001b[1;33m\u001b[0m\u001b[0m\n\u001b[1;32m-> 1426\u001b[1;33m             initial_epoch=initial_epoch)\n\u001b[0m\u001b[0;32m   1427\u001b[0m \u001b[1;33m\u001b[0m\u001b[0m\n\u001b[0;32m   1428\u001b[0m     \u001b[1;33m@\u001b[0m\u001b[0minterfaces\u001b[0m\u001b[1;33m.\u001b[0m\u001b[0mlegacy_generator_methods_support\u001b[0m\u001b[1;33m\u001b[0m\u001b[0m\n",
      "\u001b[1;32mc:\\program files\\python36\\lib\\site-packages\\keras\\engine\\training_generator.py\u001b[0m in \u001b[0;36mfit_generator\u001b[1;34m(model, generator, steps_per_epoch, epochs, verbose, callbacks, validation_data, validation_steps, class_weight, max_queue_size, workers, use_multiprocessing, shuffle, initial_epoch)\u001b[0m\n\u001b[0;32m    189\u001b[0m                 outs = model.train_on_batch(x, y,\n\u001b[0;32m    190\u001b[0m                                             \u001b[0msample_weight\u001b[0m\u001b[1;33m=\u001b[0m\u001b[0msample_weight\u001b[0m\u001b[1;33m,\u001b[0m\u001b[1;33m\u001b[0m\u001b[0m\n\u001b[1;32m--> 191\u001b[1;33m                                             class_weight=class_weight)\n\u001b[0m\u001b[0;32m    192\u001b[0m \u001b[1;33m\u001b[0m\u001b[0m\n\u001b[0;32m    193\u001b[0m                 \u001b[1;32mif\u001b[0m \u001b[1;32mnot\u001b[0m \u001b[0misinstance\u001b[0m\u001b[1;33m(\u001b[0m\u001b[0mouts\u001b[0m\u001b[1;33m,\u001b[0m \u001b[0mlist\u001b[0m\u001b[1;33m)\u001b[0m\u001b[1;33m:\u001b[0m\u001b[1;33m\u001b[0m\u001b[0m\n",
      "\u001b[1;32mc:\\program files\\python36\\lib\\site-packages\\keras\\engine\\training.py\u001b[0m in \u001b[0;36mtrain_on_batch\u001b[1;34m(self, x, y, sample_weight, class_weight)\u001b[0m\n\u001b[0;32m   1218\u001b[0m             \u001b[0mins\u001b[0m \u001b[1;33m=\u001b[0m \u001b[0mx\u001b[0m \u001b[1;33m+\u001b[0m \u001b[0my\u001b[0m \u001b[1;33m+\u001b[0m \u001b[0msample_weights\u001b[0m\u001b[1;33m\u001b[0m\u001b[0m\n\u001b[0;32m   1219\u001b[0m         \u001b[0mself\u001b[0m\u001b[1;33m.\u001b[0m\u001b[0m_make_train_function\u001b[0m\u001b[1;33m(\u001b[0m\u001b[1;33m)\u001b[0m\u001b[1;33m\u001b[0m\u001b[0m\n\u001b[1;32m-> 1220\u001b[1;33m         \u001b[0moutputs\u001b[0m \u001b[1;33m=\u001b[0m \u001b[0mself\u001b[0m\u001b[1;33m.\u001b[0m\u001b[0mtrain_function\u001b[0m\u001b[1;33m(\u001b[0m\u001b[0mins\u001b[0m\u001b[1;33m)\u001b[0m\u001b[1;33m\u001b[0m\u001b[0m\n\u001b[0m\u001b[0;32m   1221\u001b[0m         \u001b[1;32mif\u001b[0m \u001b[0mlen\u001b[0m\u001b[1;33m(\u001b[0m\u001b[0moutputs\u001b[0m\u001b[1;33m)\u001b[0m \u001b[1;33m==\u001b[0m \u001b[1;36m1\u001b[0m\u001b[1;33m:\u001b[0m\u001b[1;33m\u001b[0m\u001b[0m\n\u001b[0;32m   1222\u001b[0m             \u001b[1;32mreturn\u001b[0m \u001b[0moutputs\u001b[0m\u001b[1;33m[\u001b[0m\u001b[1;36m0\u001b[0m\u001b[1;33m]\u001b[0m\u001b[1;33m\u001b[0m\u001b[0m\n",
      "\u001b[1;32mc:\\program files\\python36\\lib\\site-packages\\keras\\backend\\tensorflow_backend.py\u001b[0m in \u001b[0;36m__call__\u001b[1;34m(self, inputs)\u001b[0m\n\u001b[0;32m   2659\u001b[0m                 \u001b[1;32mreturn\u001b[0m \u001b[0mself\u001b[0m\u001b[1;33m.\u001b[0m\u001b[0m_legacy_call\u001b[0m\u001b[1;33m(\u001b[0m\u001b[0minputs\u001b[0m\u001b[1;33m)\u001b[0m\u001b[1;33m\u001b[0m\u001b[0m\n\u001b[0;32m   2660\u001b[0m \u001b[1;33m\u001b[0m\u001b[0m\n\u001b[1;32m-> 2661\u001b[1;33m             \u001b[1;32mreturn\u001b[0m \u001b[0mself\u001b[0m\u001b[1;33m.\u001b[0m\u001b[0m_call\u001b[0m\u001b[1;33m(\u001b[0m\u001b[0minputs\u001b[0m\u001b[1;33m)\u001b[0m\u001b[1;33m\u001b[0m\u001b[0m\n\u001b[0m\u001b[0;32m   2662\u001b[0m         \u001b[1;32melse\u001b[0m\u001b[1;33m:\u001b[0m\u001b[1;33m\u001b[0m\u001b[0m\n\u001b[0;32m   2663\u001b[0m             \u001b[1;32mif\u001b[0m \u001b[0mpy_any\u001b[0m\u001b[1;33m(\u001b[0m\u001b[0mis_tensor\u001b[0m\u001b[1;33m(\u001b[0m\u001b[0mx\u001b[0m\u001b[1;33m)\u001b[0m \u001b[1;32mfor\u001b[0m \u001b[0mx\u001b[0m \u001b[1;32min\u001b[0m \u001b[0minputs\u001b[0m\u001b[1;33m)\u001b[0m\u001b[1;33m:\u001b[0m\u001b[1;33m\u001b[0m\u001b[0m\n",
      "\u001b[1;32mc:\\program files\\python36\\lib\\site-packages\\keras\\backend\\tensorflow_backend.py\u001b[0m in \u001b[0;36m_call\u001b[1;34m(self, inputs)\u001b[0m\n\u001b[0;32m   2612\u001b[0m                 array_vals.append(\n\u001b[0;32m   2613\u001b[0m                     np.asarray(value,\n\u001b[1;32m-> 2614\u001b[1;33m                                dtype=tensor.dtype.base_dtype.name))\n\u001b[0m\u001b[0;32m   2615\u001b[0m         \u001b[1;32mif\u001b[0m \u001b[0mself\u001b[0m\u001b[1;33m.\u001b[0m\u001b[0mfeed_dict\u001b[0m\u001b[1;33m:\u001b[0m\u001b[1;33m\u001b[0m\u001b[0m\n\u001b[0;32m   2616\u001b[0m             \u001b[1;32mfor\u001b[0m \u001b[0mkey\u001b[0m \u001b[1;32min\u001b[0m \u001b[0msorted\u001b[0m\u001b[1;33m(\u001b[0m\u001b[0mself\u001b[0m\u001b[1;33m.\u001b[0m\u001b[0mfeed_dict\u001b[0m\u001b[1;33m.\u001b[0m\u001b[0mkeys\u001b[0m\u001b[1;33m(\u001b[0m\u001b[1;33m)\u001b[0m\u001b[1;33m)\u001b[0m\u001b[1;33m:\u001b[0m\u001b[1;33m\u001b[0m\u001b[0m\n",
      "\u001b[1;32mc:\\program files\\python36\\lib\\site-packages\\numpy\\core\\numeric.py\u001b[0m in \u001b[0;36masarray\u001b[1;34m(a, dtype, order)\u001b[0m\n\u001b[0;32m    490\u001b[0m \u001b[1;33m\u001b[0m\u001b[0m\n\u001b[0;32m    491\u001b[0m     \"\"\"\n\u001b[1;32m--> 492\u001b[1;33m     \u001b[1;32mreturn\u001b[0m \u001b[0marray\u001b[0m\u001b[1;33m(\u001b[0m\u001b[0ma\u001b[0m\u001b[1;33m,\u001b[0m \u001b[0mdtype\u001b[0m\u001b[1;33m,\u001b[0m \u001b[0mcopy\u001b[0m\u001b[1;33m=\u001b[0m\u001b[1;32mFalse\u001b[0m\u001b[1;33m,\u001b[0m \u001b[0morder\u001b[0m\u001b[1;33m=\u001b[0m\u001b[0morder\u001b[0m\u001b[1;33m)\u001b[0m\u001b[1;33m\u001b[0m\u001b[0m\n\u001b[0m\u001b[0;32m    493\u001b[0m \u001b[1;33m\u001b[0m\u001b[0m\n\u001b[0;32m    494\u001b[0m \u001b[1;33m\u001b[0m\u001b[0m\n",
      "\u001b[1;31mKeyboardInterrupt\u001b[0m: "
     ]
    }
   ],
   "source": [
    "import matplotlib.pyplot as plt\n",
    "import numpy as np\n",
    "\n",
    "from keras.models import Sequential\n",
    "from my_classes import DataGenerator\n",
    "\n",
    "# Parameters\n",
    "batch_size = 15\n",
    "params = {'dim': (192,192,160),\n",
    "          'batch_size': batch_size,\n",
    "          'n_classes': 3,\n",
    "          'n_channels': 1,\n",
    "          'shuffle': False,\n",
    "          'target_shape': target_shape,\n",
    "          'target_affine': target_affine}\n",
    "\n",
    "partition = {}\n",
    "labels = {}\n",
    "\n",
    "nf = len(Ids)\n",
    "print('Total images:',nf)\n",
    "\n",
    "nf_part = int( (nf/n_dataset_parts) //1)\n",
    "print('training images:',nf-nf_part)\n",
    "print('validation images:',nf_part)\n",
    "\n",
    "print('batch_size:',batch_size)\n",
    "\n",
    "epochs_per_run = 50\n",
    "\n",
    "steps_per_epoch = int(((nf-nf_part)/batch_size)//1)\n",
    "##steps_per_epoch = 2\n",
    "\n",
    "print('steps_per_epoch:',steps_per_epoch)\n",
    "\n",
    "validation_steps = int(((nf_part)/batch_size)//1)\n",
    "##validation_steps = 10\n",
    "\n",
    "print('validation_steps:',validation_steps)\n",
    "\n",
    "cvscores = []\n",
    "\n",
    "#save in file initial weights \n",
    "model.save_weights('CN_AD_MCI_Conv3D_CV_GP2_start_weights.h5')\n",
    "\n",
    "for nrun in range(n_dataset_parts):\n",
    "    \n",
    "    #each run starts with same weigths\n",
    "    model.load_weights('CN_AD_MCI_Conv3D_CV_GP2_start_weights.h5')\n",
    "    \n",
    "    partition['train'] = Ids[0:nrun*nf_part]+Ids[(nrun+1)*nf_part:nf] \n",
    "    partition['validation'] = Ids[nrun*nf_part:(nrun+1)*nf_part]\n",
    "    \n",
    "    # Generators\n",
    "    training_generator = DataGenerator(FilePathsFromId, LabelsFromId, partition['train'],  **params)\n",
    "    validation_generator = DataGenerator(FilePathsFromId, LabelsFromId, partition['validation'],  **params)\n",
    "    \n",
    "    print('**************************************************************')\n",
    "    print('Run',nrun+1,'/',n_dataset_parts)\n",
    "    print('**************************************************************')\n",
    "    \n",
    "    callbacks = configureCallbacks(nrun)\n",
    "    \n",
    "    history = model.fit_generator(\n",
    "        generator=training_generator,\n",
    "        validation_data=validation_generator,\n",
    "        use_multiprocessing=False,\n",
    "        workers=6,\n",
    "        epochs=epochs_per_run,\n",
    "        callbacks=callbacks)\n",
    "    \n",
    "    model.save('CN_AD_MCI_Conv3D_CV_GP2_'+str(nrun)+'.h5')\n",
    "    \n",
    "    # evaluate the model\n",
    "    \n",
    "    scores=model.evaluate_generator(validation_generator, steps=validation_steps) # sobre todas las imagenes el set de validacion\n",
    "    \n",
    "    print(\"%s: %.2f%%\" % (model.metrics_names[1], scores[1]*100))\n",
    "    cvscores.append(scores[1] * 100)\n",
    "    \n",
    "    PlotAll(history)\n",
    "    \n",
    "print('CV mean:',\"%.2f%% (+/- %.2f%%)\" % (np.mean(cvscores), np.std(cvscores)))\n",
    "\n",
    "    "
   ]
  }
 ],
 "metadata": {
  "accelerator": "GPU",
  "colab": {
   "collapsed_sections": [],
   "default_view": {},
   "name": "Clasificacion_pacientes_con_y_sin_Alzheimer.ipynb",
   "provenance": [],
   "version": "0.3.2",
   "views": {}
  },
  "kernelspec": {
   "display_name": "Python 3",
   "language": "python",
   "name": "python3"
  },
  "language_info": {
   "codemirror_mode": {
    "name": "ipython",
    "version": 3
   },
   "file_extension": ".py",
   "mimetype": "text/x-python",
   "name": "python",
   "nbconvert_exporter": "python",
   "pygments_lexer": "ipython3",
   "version": "3.6.0"
  }
 },
 "nbformat": 4,
 "nbformat_minor": 1
}
