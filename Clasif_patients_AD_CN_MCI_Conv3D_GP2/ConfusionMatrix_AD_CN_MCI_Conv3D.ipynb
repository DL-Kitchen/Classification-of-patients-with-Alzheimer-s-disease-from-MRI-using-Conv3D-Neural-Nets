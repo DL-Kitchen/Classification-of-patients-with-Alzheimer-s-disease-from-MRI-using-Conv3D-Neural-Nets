{
 "cells": [
  {
   "cell_type": "code",
   "execution_count": 1,
   "metadata": {
    "colab": {
     "autoexec": {
      "startup": false,
      "wait_interval": 0
     },
     "base_uri": "https://localhost:8080/",
     "height": 34
    },
    "colab_type": "code",
    "executionInfo": {
     "elapsed": 633,
     "status": "ok",
     "timestamp": 1526079392239,
     "user": {
      "displayName": "Francisco Ariztizabal",
      "photoUrl": "//lh5.googleusercontent.com/-eXc74JEqcGU/AAAAAAAAAAI/AAAAAAAACw4/1af62-u2Bv4/s50-c-k-no/photo.jpg",
      "userId": "101144446090594934349"
     },
     "user_tz": 300
    },
    "id": "mXvaFWF48bbD",
    "outputId": "4e9a4991-53f9-4bd0-ac91-f07bc8a15368"
   },
   "outputs": [
    {
     "name": "stderr",
     "output_type": "stream",
     "text": [
      "Using TensorFlow backend.\n"
     ]
    },
    {
     "data": {
      "text/plain": [
       "'2.2.0'"
      ]
     },
     "execution_count": 1,
     "metadata": {},
     "output_type": "execute_result"
    }
   ],
   "source": [
    "import keras\n",
    "keras.__version__"
   ]
  },
  {
   "cell_type": "markdown",
   "metadata": {
    "colab_type": "text",
    "id": "vIHCkVWC8bbM"
   },
   "source": [
    "# compute Confusion Matrix for AD, CN and MCI using 3D volume MRI "
   ]
  },
  {
   "cell_type": "code",
   "execution_count": 2,
   "metadata": {},
   "outputs": [],
   "source": [
    "import os \n",
    "import shutil\n",
    "import nibabel as nib\n",
    "import numpy as np\n",
    "import pandas as pd \n",
    "\n",
    "# El path al directorio donde estan las imagenes\n",
    "\n",
    "dataset_dir = 'C:\\ADNI\\Imagenes3D'\n",
    "dataset_labelfile = \"C:\\ADNI/ADNI1_Complete_1Yr_1.5T.csv\"\n",
    "dataset_labelfile_idfield = 'Image Data ID'\n",
    "dataset_labelfile_labelfield = 'Group'\n",
    "\n",
    "#Training parameters\n",
    "\n",
    "n_dataset_parts = 5 #must be integer\n",
    "crossval_dataset_frac = 1/n_dataset_parts\n",
    "\n",
    "FilePathsFromId = {} ## 'ID':path\n",
    "LabelsFromId = {} ## 'ID':label\n",
    "\n",
    "IntLabels = {'CN':0, 'AD':1,'MCI':2}\n",
    "\n",
    "target_shape = (192,192,160)\n",
    "target_affine = np.array([ [ 4.29048360e-08,  3.24291396e-04, -1.20006235e+00, 9.47253036e+01],\n",
    "                        [-3.27969076e-04, -1.23945871e+00, -3.13983739e-04, 1.38530121e+02],\n",
    "                        [-1.25348123e+00,  3.24300145e-04,  4.10763858e-08, 1.08530121e+02],\n",
    "                        [ 0.00000000e+00,  0.00000000e+00,  0.00000000e+00, 1.00000000e+00]\n",
    "                ])\n"
   ]
  },
  {
   "cell_type": "markdown",
   "metadata": {},
   "source": [
    "# Data management functions "
   ]
  },
  {
   "cell_type": "code",
   "execution_count": 3,
   "metadata": {},
   "outputs": [],
   "source": [
    "def GenerateDictionariesFromDataset(dataset_dir,dataset_labelfile,dataset_labelfile_idfield,dataset_labelfile_labelfield):\n",
    "    \n",
    "    \n",
    "    CSVDB = GenerateCSVDB(dataset_labelfile,dataset_labelfile_idfield)\n",
    "    \n",
    "    FilePaths = GenerateFilePathList(dataset_dir)\n",
    "        \n",
    "    return GenerateDictionariesFromFileList(FilePaths,CSVDB,dataset_labelfile_labelfield)\n",
    "    \n",
    "\n",
    "def GenerateDictionariesFromFileList(FilePaths,CSVDB,CSVDBField):\n",
    "\n",
    "    FilePathsFromId = {} ## 'ID':path\n",
    "    LabelsFromId = {} ## 'ID':label\n",
    "        \n",
    "    for filePath in FilePaths:\n",
    "\n",
    "        Id = IdFromFilePath(filePath) \n",
    "        Label = LabelFromId(Id,CSVDB,CSVDBField)\n",
    "        \n",
    "        FilePathsFromId[Id] = filePath\n",
    "        LabelsFromId[Id] = IntLabels[Label]\n",
    "\n",
    "    return FilePathsFromId,LabelsFromId\n",
    "\n",
    "def IdFromFilePath(FilePath):\n",
    "    #expecting filename like id.nii\n",
    "    Id = FilePath.split('\\\\')[-1].split('.')[0]\n",
    "    Id = np.int64(Id)\n",
    "    return Id\n",
    "\n",
    "def LabelFromId(Id,CSVDB,CSVDBField):\n",
    "    return CSVDB.at[Id, CSVDBField]\n",
    "\n",
    "def GenerateCSVDB(dataset_labelfile,dataset_labelfile_idfield):\n",
    "    #read CSV file\n",
    "    CSVDB = pd.read_csv(dataset_labelfile, dtype={dataset_labelfile_idfield:int})\n",
    "    #Generate index on id field\n",
    "    CSVDB.set_index(dataset_labelfile_idfield, inplace=True)\n",
    "    \n",
    "    return CSVDB\n",
    "\n",
    "def GenerateFilePathList(dataset_dir):\n",
    "\n",
    "    FilePaths = []\n",
    "    for dirname, dirnames, filenames in os.walk(dataset_dir):\n",
    "        # print path to all subdirectories first.\n",
    "        for subdirname in dirnames:\n",
    "            FilePaths.append(os.path.join(dirname, subdirname))\n",
    "\n",
    "        # print path to all filenames.\n",
    "        for filename in filenames:\n",
    "            FilePaths.append(os.path.join(dirname, filename))\n",
    "            \n",
    "    return FilePaths"
   ]
  },
  {
   "cell_type": "markdown",
   "metadata": {},
   "source": [
    "# Data dictionaries"
   ]
  },
  {
   "cell_type": "code",
   "execution_count": 4,
   "metadata": {},
   "outputs": [
    {
     "name": "stdout",
     "output_type": "stream",
     "text": [
      "CN: 703 AD: 476 MCI: 1113\n",
      "Tot: 2292\n",
      "f0: 0.3067190226876091 f1: 0.20767888307155322 f2: 0.4856020942408377\n"
     ]
    }
   ],
   "source": [
    "import random\n",
    "\n",
    "FilePathsFromId,LabelsFromId = GenerateDictionariesFromDataset(dataset_dir,\n",
    "                                                               dataset_labelfile,\n",
    "                                                               dataset_labelfile_idfield,\n",
    "                                                               dataset_labelfile_labelfield)\n",
    "\n",
    "#print(FilePathsFromId)\n",
    "#print(LabelsFromId)\n",
    "\n",
    "#Ids = list(FilePathsFromId.keys())\n",
    "\n",
    "#print(Ids)\n",
    "#print(len(Ids))\n",
    "\n",
    "c0=0\n",
    "c1=0\n",
    "c2=0\n",
    "Ids0 = []\n",
    "Ids1 = []\n",
    "Ids2 = []\n",
    "indice = 0\n",
    "for k,v in LabelsFromId.items():\n",
    "    #print('k:',k,'v:',v)\n",
    "    if v==0:\n",
    "        c0 += 1\n",
    "        Ids0.append(k)  \n",
    "    if v==1:\n",
    "        c1 += 1\n",
    "        Ids1.append(k)  \n",
    "    if v==2:\n",
    "        c2 += 1\n",
    "        Ids2.append(k)  \n",
    "    \n",
    "    indice += 1\n",
    "        \n",
    "print('CN:',c0,'AD:',c1,'MCI:',c2)\n",
    "Tot = c0+c1+c2\n",
    "print('Tot:',Tot)\n",
    "f0=c0/Tot\n",
    "f1=c1/Tot\n",
    "f2=c2/Tot\n",
    "print('f0:',f0,'f1:',f1,'f2:',f2)\n",
    "\n",
    "#append ids mantaining proportion\n",
    "Ids = []\n",
    "n0 = 0\n",
    "n1 = 0\n",
    "n2 = 0\n",
    "indice = 0\n",
    "\n",
    "while indice<Tot :\n",
    "    \n",
    "    rn = random.random()        # Random float x, 0.0 <= x < 1.0\n",
    "    \n",
    "    if rn < f0:\n",
    "        if n0 < len(Ids0):\n",
    "            Ids.append(Ids0[n0])      \n",
    "            n0 += 1\n",
    "            indice += 1\n",
    "            \n",
    "    if rn>=f0 and rn<(f0+f1):\n",
    "        if n1 < len(Ids1):\n",
    "            Ids.append(Ids1[n1])      \n",
    "            n1 += 1\n",
    "            indice += 1\n",
    "\n",
    "    if rn>=(f0+f1): \n",
    "        if n2 < len(Ids2):\n",
    "            Ids.append(Ids2[n2])      \n",
    "            n2 += 1\n",
    "            indice += 1\n",
    "    \n",
    "#print('indice:',indice)\n",
    "#print(len(Ids)\n",
    "\n",
    "\n"
   ]
  },
  {
   "cell_type": "markdown",
   "metadata": {},
   "source": [
    "# Import trained model"
   ]
  },
  {
   "cell_type": "code",
   "execution_count": 5,
   "metadata": {},
   "outputs": [],
   "source": [
    "from keras.models import load_model\n",
    "\n",
    "model = load_model('CN_AD_MCI_Conv3D_CV_GP2_0.h5')"
   ]
  },
  {
   "cell_type": "code",
   "execution_count": 6,
   "metadata": {
    "colab": {
     "autoexec": {
      "startup": false,
      "wait_interval": 0
     },
     "base_uri": "https://localhost:8080/",
     "height": 504
    },
    "colab_type": "code",
    "executionInfo": {
     "elapsed": 594,
     "status": "ok",
     "timestamp": 1526079624702,
     "user": {
      "displayName": "Francisco Ariztizabal",
      "photoUrl": "//lh5.googleusercontent.com/-eXc74JEqcGU/AAAAAAAAAAI/AAAAAAAACw4/1af62-u2Bv4/s50-c-k-no/photo.jpg",
      "userId": "101144446090594934349"
     },
     "user_tz": 300
    },
    "id": "mMtDbj5K8bbq",
    "outputId": "69408117-161d-49b9-b1f8-5c07d00bf5a9"
   },
   "outputs": [
    {
     "name": "stdout",
     "output_type": "stream",
     "text": [
      "_________________________________________________________________\n",
      "Layer (type)                 Output Shape              Param #   \n",
      "=================================================================\n",
      "average_pooling3d_1 (Average (None, 96, 96, 80, 1)     0         \n",
      "_________________________________________________________________\n",
      "conv3d_1 (Conv3D)            (None, 96, 96, 80, 32)    896       \n",
      "_________________________________________________________________\n",
      "max_pooling3d_1 (MaxPooling3 (None, 48, 48, 40, 32)    0         \n",
      "_________________________________________________________________\n",
      "conv3d_2 (Conv3D)            (None, 46, 46, 38, 64)    55360     \n",
      "_________________________________________________________________\n",
      "max_pooling3d_2 (MaxPooling3 (None, 23, 23, 19, 64)    0         \n",
      "_________________________________________________________________\n",
      "conv3d_3 (Conv3D)            (None, 21, 21, 17, 128)   221312    \n",
      "_________________________________________________________________\n",
      "max_pooling3d_3 (MaxPooling3 (None, 10, 10, 8, 128)    0         \n",
      "_________________________________________________________________\n",
      "conv3d_4 (Conv3D)            (None, 8, 8, 6, 128)      442496    \n",
      "_________________________________________________________________\n",
      "max_pooling3d_4 (MaxPooling3 (None, 4, 4, 3, 128)      0         \n",
      "_________________________________________________________________\n",
      "flatten_1 (Flatten)          (None, 6144)              0         \n",
      "_________________________________________________________________\n",
      "dense_1 (Dense)              (None, 32)                196640    \n",
      "_________________________________________________________________\n",
      "dense_2 (Dense)              (None, 3)                 99        \n",
      "=================================================================\n",
      "Total params: 916,803\n",
      "Trainable params: 916,803\n",
      "Non-trainable params: 0\n",
      "_________________________________________________________________\n"
     ]
    }
   ],
   "source": [
    "model.summary()"
   ]
  },
  {
   "cell_type": "markdown",
   "metadata": {},
   "source": [
    "# MAIN"
   ]
  },
  {
   "cell_type": "code",
   "execution_count": 8,
   "metadata": {},
   "outputs": [
    {
     "name": "stdout",
     "output_type": "stream",
     "text": [
      "Total images: 2292\n",
      "training images: 1834\n",
      "validation images: 458\n",
      "batch_size: 15\n",
      "steps_per_epoch: 122\n",
      "validation_steps: 30\n",
      "Using  Keras Generator for NIfti images V.12\n",
      "Using  Keras Generator for NIfti images V.12\n",
      "[0 0 2 2 0 2 2 2 0 1 0 2 0 2 1 2 0 0 0 0 1 1 1 2 0 1 0 1 0 1 1 1 0 2 2 1 2\n",
      " 2 0 2 1 2 2 2 2 2 2 2 0 2 0 0 2 0 2 2 0 2 0 0 1 2 2 2 2 1 0 2 2 1 1 2 0 1\n",
      " 2 2 0 1 1 0 0 0 2 0 2 2 2 1 1 2 1 2 2 0 0 2 2 2 2 0 1 2 1 1 2 1 0 2 2 2 2\n",
      " 2 0 2 1 0 2 0 0 2 2 0 0 0 0 0 1 2 2 1 0 0 0 1 1 2 2 2 2 2 0 2 2 0 0 2 2 2\n",
      " 0 2 2 1 0 1 2 0 0 2 2 1 2 2 2 1 2 2 2 2 2 2 1 2 0 2 2 2 2 0 2 2 2 2 0 2 2\n",
      " 0 1 2 2 0 2 0 0 2 2 2 2 0 2 0 2 2 0 1 1 2 0 0 2 2 1 0 2 1 2 2 1 1 2 2 0 0\n",
      " 1 0 2 2 0 0 1 2 0 0 1 2 0 0 1 1 1 1 1 2 2 1 0 0 1 0 2 0 2 1 2 2 2 0 2 2 1\n",
      " 2 0 2 1 2 2 2 0 1 0 1 0 2 0 2 0 1 1 2 2 2 1 0 2 2 0 2 0 2 0 2 0 0 0 1 1 2\n",
      " 2 0 2 0 1 2 0 0 2 2 0 2 0 2 0 2 2 0 2 0 2 0 2 2 1 0 0 2 2 0 2 1 2 0 2 2 0\n",
      " 2 2 2 0 0 1 1 2 0 2 2 2 2 1 1 2 2 0 1 1 2 0 2 2 0 2 2 2 0 2 1 0 2 2 2 2 2\n",
      " 2 2 1 2 2 1 0 0 0 2 2 1 2 2 2 2 2 0 1 2 2 0 0 1 1 2 2 1 2 2 1 0 0 2 2 2 0\n",
      " 2 2 1 1 2 2 1 2 2 2 0 0 1 2 1 1 0 0 2 2 2 0 1 0 2 2 0 1 2 0 2 2 0 2 1 2 2\n",
      " 0 2 2 2 2 0]\n",
      "30/30 [==============================] - 168s 6s/step\n",
      "[1 1 2 2 0 2 0 2 2 1 2 0 2 2 1 2 2 0 2 0 2 1 0 2 2 1 2 0 2 2 2 1 2 1 0 0 1\n",
      " 2 0 0 1 2 0 0 2 2 1 2 2 2 0 2 2 2 0 1 1 2 0 0 1 0 2 0 1 2 0 2 1 0 1 2 0 2\n",
      " 0 1 0 0 2 0 0 0 1 0 1 2 2 2 2 2 0 2 2 0 0 2 2 2 2 0 2 2 1 0 2 2 0 2 2 2 2\n",
      " 2 0 2 1 2 2 0 0 2 2 0 0 0 0 2 1 2 2 0 0 0 0 1 1 1 2 2 2 2 0 2 0 0 0 1 2 1\n",
      " 0 2 2 1 0 1 1 0 0 2 2 2 2 2 2 1 2 2 0 2 2 0 1 2 0 2 1 2 2 0 2 2 2 2 0 2 2\n",
      " 0 1 2 2 0 2 0 0 1 2 2 2 0 2 0 2 2 0 2 0 2 0 0 2 2 1 0 2 2 2 2 2 1 2 2 0 0\n",
      " 0 0 2 2 0 0 1 2 2 0 1 2 0 2 1 1 1 1 1 2 2 1 0 2 1 0 2 1 2 1 0 2 2 0 0 2 1\n",
      " 2 0 2 1 2 2 2 0 1 0 1 0 2 2 2 0 1 1 2 2 2 1 2 2 2 0 2 0 2 0 0 0 1 0 0 0 0\n",
      " 1 0 2 0 1 0 0 0 2 2 0 2 0 2 0 2 2 0 2 0 2 0 2 2 1 0 0 2 2 2 2 1 2 0 2 2 0\n",
      " 2 0 2 0 0 1 1 2 0 2 2 2 2 1 2 1 2 0 2 1 2 0 2 2 0 2 2 2 0 2 2 0 1 2 2 2 2\n",
      " 0 1 2 2 2 1 0 0 0 2 2 1 2 2 2 2 2 1 1 2 0 0 0 1 0 2 2 1 2 2 1 0 0 2 2 2 0\n",
      " 2 2 1 1 2 2 1 2 2 2 0 0 1 2 0 1 0 0 2 2 0 0 2 1 1 1 2 1 0 0 0 0 2 0 1 0 2\n",
      " 2 2 2 2 2 0]\n",
      "[[105   7  23]\n",
      " [ 14  57  19]\n",
      " [ 27  21 177]]\n"
     ]
    }
   ],
   "source": [
    "import matplotlib.pyplot as plt\n",
    "import numpy as np\n",
    "\n",
    "from keras.models import Sequential\n",
    "from my_classes import DataGenerator\n",
    "\n",
    "from sklearn.metrics import confusion_matrix\n",
    "\n",
    "\n",
    "# Parameters\n",
    "batch_size = 15\n",
    "params = {'dim': (192,192,160),\n",
    "          'batch_size': batch_size,\n",
    "          'n_classes': 3,\n",
    "          'n_channels': 1,\n",
    "          'shuffle': False,\n",
    "          'target_shape': target_shape,\n",
    "          'target_affine': target_affine}\n",
    "\n",
    "partition = {}\n",
    "labels = {}\n",
    "\n",
    "nf = len(Ids)\n",
    "print('Total images:',nf)\n",
    "\n",
    "nf_part = int( (nf/n_dataset_parts) //1)\n",
    "print('training images:',nf-nf_part)\n",
    "print('validation images:',nf_part)\n",
    "\n",
    "print('batch_size:',batch_size)\n",
    "\n",
    "#epochs_per_run = 50\n",
    "\n",
    "#steps_per_epoch = int(((nf-nf_part)/batch_size)//1)\n",
    "\n",
    "#print('steps_per_epoch:',steps_per_epoch)\n",
    "\n",
    "validation_steps = int(((nf_part)/batch_size)//1)\n",
    "\n",
    "print('validation_steps:',validation_steps)\n",
    "\n",
    "#cvscores = []\n",
    "\n",
    "#save in file initial weights \n",
    "#model.save_weights('CN_AD_MCI_Conv3D_CV_GP2_start_weights.h5')\n",
    "\n",
    "#for nrun in range(n_dataset_parts):\n",
    "\n",
    "#we only have  NN trained for run = 0\n",
    "nrun=0\n",
    "\n",
    "partition['train'] = Ids[0:nrun*nf_part]+Ids[(nrun+1)*nf_part:nf] \n",
    "partition['validation'] = Ids[nrun*nf_part:(nrun+1)*nf_part]\n",
    "\n",
    "# Generators\n",
    "training_generator = DataGenerator(FilePathsFromId, LabelsFromId, partition['train'],  **params)\n",
    "validation_generator = DataGenerator(FilePathsFromId, LabelsFromId, partition['validation'],  **params)\n",
    "\n",
    "    \n",
    "#scores=model.evaluate_generator(validation_generator, steps=validation_steps) # sobre todas las imagenes el set de validacion\n",
    "\n",
    "#print(\"%s: %.2f%%\" % (model.metrics_names[1], scores[1]*100))\n",
    "#cvscores.append(scores[1] * 100)\n",
    "\n",
    "y_espe = np.concatenate([np.argmax(validation_generator[i][1], axis=1) for i in range(validation_steps)])\n",
    "print(y_espe)\n",
    "\n",
    "y_pred = np.argmax(model.predict_generator(validation_generator,\n",
    "                                           steps=validation_steps,\n",
    "                                           max_queue_size=10,\n",
    "                                           workers=6, \n",
    "                                           use_multiprocessing=False, \n",
    "                                           verbose=1\n",
    "                                          ),\n",
    "                   axis=1) \n",
    "\n",
    "print(y_pred)\n",
    "\n",
    "cm = confusion_matrix(y_espe,y_pred)\n",
    "\n",
    "print(cm)\n",
    "    "
   ]
  },
  {
   "cell_type": "code",
   "execution_count": 10,
   "metadata": {},
   "outputs": [
    {
     "name": "stdout",
     "output_type": "stream",
     "text": [
      "Confusion matrix, without normalization\n",
      "[[105   7  23]\n",
      " [ 14  57  19]\n",
      " [ 27  21 177]]\n",
      "Normalized confusion matrix\n",
      "[[0.78 0.05 0.17]\n",
      " [0.16 0.63 0.21]\n",
      " [0.12 0.09 0.79]]\n"
     ]
    },
    {
     "data": {
      "image/png": "[encoded data removed]",
      "text/plain": [
       "<Figure size 432x288 with 2 Axes>"
      ]
     },
     "metadata": {},
     "output_type": "display_data"
    },
    {
     "data": {
      "image/png": "[encoded data removed]",
      "text/plain": [
       "<Figure size 432x288 with 2 Axes>"
      ]
     },
     "metadata": {},
     "output_type": "display_data"
    }
   ],
   "source": [
    "import itertools\n",
    "def plot_confusion_matrix(cm, classes,\n",
    "                          normalize=False,\n",
    "                          title='Confusion matrix',\n",
    "                          cmap=plt.cm.Blues):\n",
    "    \"\"\"\n",
    "    This function prints and plots the confusion matrix.\n",
    "    Normalization can be applied by setting `normalize=True`.\n",
    "    \"\"\"\n",
    "    if normalize:\n",
    "        cm = cm.astype('float') / cm.sum(axis=1)[:, np.newaxis]\n",
    "        print(\"Normalized confusion matrix\")\n",
    "    else:\n",
    "        print('Confusion matrix, without normalization')\n",
    "\n",
    "    print(cm)\n",
    "\n",
    "    plt.imshow(cm, interpolation='nearest', cmap=cmap)\n",
    "    plt.title(title)\n",
    "    plt.colorbar()\n",
    "    tick_marks = np.arange(len(classes))\n",
    "    plt.xticks(tick_marks, classes, rotation=45)\n",
    "    plt.yticks(tick_marks, classes)\n",
    "\n",
    "    fmt = '.2f' if normalize else 'd'\n",
    "    thresh = cm.max() / 2.\n",
    "    for i, j in itertools.product(range(cm.shape[0]), range(cm.shape[1])):\n",
    "        plt.text(j, i, format(cm[i, j], fmt),\n",
    "                 horizontalalignment=\"center\",\n",
    "                 color=\"white\" if cm[i, j] > thresh else \"black\")\n",
    "\n",
    "    plt.tight_layout()\n",
    "    plt.ylabel('True label')\n",
    "    plt.xlabel('Predicted label')\n",
    "\n",
    "class_names = ['CN','AD','MCI']\n",
    "# Compute confusion matrix\n",
    "##FA# cnf_matrix = confusion_matrix(y_test, y_pred)\n",
    "np.set_printoptions(precision=2)\n",
    "\n",
    "# Plot non-normalized confusion matrix\n",
    "plt.figure()\n",
    "plot_confusion_matrix(cm, classes=class_names,\n",
    "                      title='Confusion matrix, without normalization')\n",
    "\n",
    "# Plot normalized confusion matrix\n",
    "plt.figure()\n",
    "plot_confusion_matrix(cm, classes=class_names, normalize=True,\n",
    "                      title='Normalized confusion matrix')\n",
    "\n",
    "plt.show()"
   ]
  },
  {
   "cell_type": "code",
   "execution_count": null,
   "metadata": {},
   "outputs": [],
   "source": []
  }
 ],
 "metadata": {
  "accelerator": "GPU",
  "colab": {
   "collapsed_sections": [],
   "default_view": {},
   "name": "Clasificacion_pacientes_con_y_sin_Alzheimer.ipynb",
   "provenance": [],
   "version": "0.3.2",
   "views": {}
  },
  "kernelspec": {
   "display_name": "Python 3",
   "language": "python",
   "name": "python3"
  },
  "language_info": {
   "codemirror_mode": {
    "name": "ipython",
    "version": 3
   },
   "file_extension": ".py",
   "mimetype": "text/x-python",
   "name": "python",
   "nbconvert_exporter": "python",
   "pygments_lexer": "ipython3",
   "version": "3.6.0"
  }
 },
 "nbformat": 4,
 "nbformat_minor": 1
}
